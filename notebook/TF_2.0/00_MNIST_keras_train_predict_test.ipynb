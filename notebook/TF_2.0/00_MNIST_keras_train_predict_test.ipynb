{
 "cells": [
  {
   "cell_type": "markdown",
   "metadata": {},
   "source": [
    "# Basics methods for training and prediction using Keras"
   ]
  },
  {
   "cell_type": "code",
   "execution_count": 1,
   "metadata": {
    "jupyter": {
     "source_hidden": true
    }
   },
   "outputs": [
    {
     "data": {
      "text/markdown": [
       "Define the following env variable before starting Jupyter Lab:  \n",
       "`export DIR_PROJ=your_path_git_repository`  \n",
       "`export PYTHONPATH=$DIR_PROJ`  \n",
       "`export PATH_TENSORBOARD=your_path_tensorboard`  \n",
       "`export PATH_DATASETS=your_path_datasets`  \n",
       "`export PROJECT_ID=your_gcp_project_id`  \n",
       "`export BUCKET_NAME=your_gcp_gs_bucket_name`  \n",
       "`export REGION=you_region`  \n",
       "  \n",
       "Start Jupyter Lab:  \n",
       "`jupyter lab`  \n",
       "  \n",
       "Choose the proper Anaconda python environment:  \n",
       "`Python [conda env:env_tensorflow]`  \n",
       "    "
      ],
      "text/plain": [
       "<IPython.core.display.Markdown object>"
      ]
     },
     "metadata": {},
     "output_type": "display_data"
    }
   ],
   "source": [
    "from IPython.display import display, Markdown\n",
    "with open('setup.md', 'r') as fh:\n",
    "    content = fh.read()\n",
    "display(Markdown(content))"
   ]
  },
  {
   "cell_type": "markdown",
   "metadata": {},
   "source": [
    "## Import packages"
   ]
  },
  {
   "cell_type": "code",
   "execution_count": 2,
   "metadata": {},
   "outputs": [],
   "source": [
    "import tensorflow as tf\n",
    "import tensorflow_datasets as tfds\n",
    "from absl import logging\n",
    "import os"
   ]
  },
  {
   "cell_type": "markdown",
   "metadata": {},
   "source": [
    "## Define paths"
   ]
  },
  {
   "cell_type": "code",
   "execution_count": 3,
   "metadata": {},
   "outputs": [],
   "source": [
    "try:\n",
    "    data_dir=os.environ['PATH_DATASETS']\n",
    "except:\n",
    "    print('missing PATH_DATASETS')"
   ]
  },
  {
   "cell_type": "markdown",
   "metadata": {},
   "source": [
    "## Getting and preprocessing data"
   ]
  },
  {
   "cell_type": "code",
   "execution_count": 4,
   "metadata": {},
   "outputs": [],
   "source": [
    "logging.set_verbosity(logging.INFO)\n",
    "# Define the estimator's input_fn\n",
    "STEPS_PER_EPOCH = 5\n",
    "BUFFER_SIZE = 10 # Use a much larger value for real code. \n",
    "BATCH_SIZE = 64\n",
    "NUM_EPOCHS = 5"
   ]
  },
  {
   "cell_type": "code",
   "execution_count": 5,
   "metadata": {},
   "outputs": [],
   "source": [
    "def input_fn():\n",
    "    datasets, ds_info = tfds.load(name='mnist', with_info=True, as_supervised=True, data_dir=data_dir)\n",
    "    mnist_train, mnist_test = datasets['train'], datasets['test']\n",
    "\n",
    "    BUFFER_SIZE = 10000\n",
    "    BATCH_SIZE = 64\n",
    "\n",
    "    def scale(image, label):\n",
    "        image = tf.cast(image, tf.float32)\n",
    "        image /= 255\n",
    "    \n",
    "        return image, label[..., tf.newaxis]\n",
    "\n",
    "    train_data = mnist_train.repeat().map(scale).shuffle(BUFFER_SIZE).batch(BATCH_SIZE)\n",
    "    test_data = mnist_test.repeat().map(scale).shuffle(BUFFER_SIZE).batch(BATCH_SIZE)\n",
    "    return train_data, test_data"
   ]
  },
  {
   "cell_type": "code",
   "execution_count": 6,
   "metadata": {},
   "outputs": [
    {
     "name": "stderr",
     "output_type": "stream",
     "text": [
      "INFO:absl:Overwrite dataset info from restored data version.\n",
      "INFO:absl:Field info.location from disk and from code do not match. Keeping the one from code.\n",
      "INFO:absl:Reusing dataset mnist (/Users/tarrade/tensorflow_datasets/mnist/3.0.0)\n",
      "INFO:absl:Constructing tf.data.Dataset for split None, from /Users/tarrade/tensorflow_datasets/mnist/3.0.0\n"
     ]
    }
   ],
   "source": [
    "train_data, test_data=input_fn()"
   ]
  },
  {
   "cell_type": "markdown",
   "metadata": {},
   "source": [
    "## Build the model"
   ]
  },
  {
   "cell_type": "code",
   "execution_count": 7,
   "metadata": {},
   "outputs": [],
   "source": [
    "def make_model():\n",
    "    return tf.keras.Sequential([\n",
    "        tf.keras.layers.Conv2D(32, 3, activation='relu',\n",
    "                               kernel_regularizer=tf.keras.regularizers.l2(0.02),\n",
    "                               input_shape=(28, 28, 1)),\n",
    "        tf.keras.layers.MaxPooling2D(),\n",
    "        tf.keras.layers.Flatten(),\n",
    "        tf.keras.layers.Dropout(0.1),\n",
    "        tf.keras.layers.Dense(64, activation='relu'),\n",
    "        tf.keras.layers.BatchNormalization(),\n",
    "        tf.keras.layers.Dense(10, activation='softmax')\n",
    "    ])"
   ]
  },
  {
   "cell_type": "code",
   "execution_count": 8,
   "metadata": {},
   "outputs": [],
   "source": [
    "model = make_model()"
   ]
  },
  {
   "cell_type": "code",
   "execution_count": 9,
   "metadata": {},
   "outputs": [],
   "source": [
    "model.compile(optimizer='adam',\n",
    "              loss='sparse_categorical_crossentropy',\n",
    "              metrics=['accuracy'])"
   ]
  },
  {
   "cell_type": "code",
   "execution_count": 10,
   "metadata": {},
   "outputs": [
    {
     "name": "stdout",
     "output_type": "stream",
     "text": [
      "Model: \"sequential\"\n",
      "_________________________________________________________________\n",
      "Layer (type)                 Output Shape              Param #   \n",
      "=================================================================\n",
      "conv2d (Conv2D)              (None, 26, 26, 32)        320       \n",
      "_________________________________________________________________\n",
      "max_pooling2d (MaxPooling2D) (None, 13, 13, 32)        0         \n",
      "_________________________________________________________________\n",
      "flatten (Flatten)            (None, 5408)              0         \n",
      "_________________________________________________________________\n",
      "dropout (Dropout)            (None, 5408)              0         \n",
      "_________________________________________________________________\n",
      "dense (Dense)                (None, 64)                346176    \n",
      "_________________________________________________________________\n",
      "batch_normalization (BatchNo (None, 64)                256       \n",
      "_________________________________________________________________\n",
      "dense_1 (Dense)              (None, 10)                650       \n",
      "=================================================================\n",
      "Total params: 347,402\n",
      "Trainable params: 347,274\n",
      "Non-trainable params: 128\n",
      "_________________________________________________________________\n"
     ]
    }
   ],
   "source": [
    "model.summary()"
   ]
  },
  {
   "cell_type": "markdown",
   "metadata": {},
   "source": [
    "## Training the model"
   ]
  },
  {
   "cell_type": "code",
   "execution_count": 11,
   "metadata": {},
   "outputs": [
    {
     "name": "stdout",
     "output_type": "stream",
     "text": [
      "train\n",
      "Train for 5 steps\n",
      "Epoch 1/10\n",
      "5/5 [==============================] - 2s 316ms/step - loss: 1.7140 - accuracy: 0.4688\n",
      "Epoch 2/10\n",
      "5/5 [==============================] - 0s 12ms/step - loss: 0.8979 - accuracy: 0.7719\n",
      "Epoch 3/10\n",
      "5/5 [==============================] - 0s 13ms/step - loss: 0.6559 - accuracy: 0.8438\n",
      "Epoch 4/10\n",
      "5/5 [==============================] - 0s 13ms/step - loss: 0.5751 - accuracy: 0.8594\n",
      "Epoch 5/10\n",
      "5/5 [==============================] - 0s 14ms/step - loss: 0.4160 - accuracy: 0.9219\n",
      "Epoch 6/10\n",
      "5/5 [==============================] - 0s 13ms/step - loss: 0.4639 - accuracy: 0.9000\n",
      "Epoch 7/10\n",
      "5/5 [==============================] - 0s 15ms/step - loss: 0.3683 - accuracy: 0.9094\n",
      "Epoch 8/10\n",
      "5/5 [==============================] - 0s 14ms/step - loss: 0.3386 - accuracy: 0.9219\n",
      "Epoch 9/10\n",
      "5/5 [==============================] - 0s 14ms/step - loss: 0.3841 - accuracy: 0.8938\n",
      "Epoch 10/10\n",
      "5/5 [==============================] - 0s 14ms/step - loss: 0.3324 - accuracy: 0.9375\n"
     ]
    },
    {
     "data": {
      "text/plain": [
       "<tensorflow.python.keras.callbacks.History at 0x13f36a2d0>"
      ]
     },
     "execution_count": 11,
     "metadata": {},
     "output_type": "execute_result"
    }
   ],
   "source": [
    "print(\"train\")\n",
    "model.fit(train_data,\n",
    "          steps_per_epoch=5,\n",
    "          epochs=10,\n",
    "          verbose = 1)"
   ]
  },
  {
   "cell_type": "markdown",
   "metadata": {},
   "source": [
    "## Evaluating the model"
   ]
  },
  {
   "cell_type": "code",
   "execution_count": 12,
   "metadata": {},
   "outputs": [
    {
     "name": "stdout",
     "output_type": "stream",
     "text": [
      "evaluate on training dataset\n",
      "1/1 [==============================] - 1s 931ms/step - loss: 1.4045 - accuracy: 0.8594\n"
     ]
    },
    {
     "data": {
      "text/plain": [
       "[1.4045376777648926, 0.859375]"
      ]
     },
     "execution_count": 12,
     "metadata": {},
     "output_type": "execute_result"
    }
   ],
   "source": [
    "print(\"evaluate on training dataset\")\n",
    "model.evaluate(train_data,\n",
    "              steps=1)"
   ]
  },
  {
   "cell_type": "code",
   "execution_count": 13,
   "metadata": {},
   "outputs": [
    {
     "name": "stdout",
     "output_type": "stream",
     "text": [
      "evaluate on training dataset\n",
      "1/1 [==============================] - 1s 844ms/step - loss: 1.4343 - accuracy: 0.8281\n"
     ]
    },
    {
     "data": {
      "text/plain": [
       "[1.4342684745788574, 0.828125]"
      ]
     },
     "execution_count": 13,
     "metadata": {},
     "output_type": "execute_result"
    }
   ],
   "source": [
    "print(\"evaluate on training dataset\")\n",
    "model.evaluate(test_data,\n",
    "               steps=1)"
   ]
  },
  {
   "cell_type": "markdown",
   "metadata": {},
   "source": [
    "## Doing prediction withn our model"
   ]
  },
  {
   "cell_type": "code",
   "execution_count": 14,
   "metadata": {},
   "outputs": [
    {
     "name": "stdout",
     "output_type": "stream",
     "text": [
      "predict on one batch of data\n",
      "tf.Tensor(\n",
      "[[0.0736251  0.05164756 0.07825514 0.09896357 0.08101612 0.04053068\n",
      "  0.0887577  0.21287563 0.07838576 0.19594276]\n",
      " [0.08664329 0.06998219 0.05613408 0.08766057 0.05766976 0.14650126\n",
      "  0.08477965 0.10850022 0.18344976 0.11867922]\n",
      " [0.14416239 0.04268898 0.08640311 0.11793164 0.06320393 0.06087663\n",
      "  0.101133   0.05855999 0.21505839 0.10998195]\n",
      " [0.04819774 0.17785509 0.1688584  0.08626056 0.08241254 0.04044393\n",
      "  0.07360231 0.06877417 0.17206435 0.08153084]\n",
      " [0.0484409  0.07036085 0.03904511 0.12578669 0.06098217 0.22633488\n",
      "  0.08878732 0.09147447 0.1471274  0.10166022]\n",
      " [0.09628263 0.06511059 0.12121519 0.16074607 0.05405232 0.04132611\n",
      "  0.21123596 0.07676069 0.11540928 0.05786118]\n",
      " [0.27816433 0.05708036 0.076178   0.07828818 0.06528085 0.05823449\n",
      "  0.14520192 0.06844957 0.09210934 0.08101302]\n",
      " [0.06352511 0.07114305 0.07539798 0.12155282 0.08518842 0.04471709\n",
      "  0.08011513 0.20677991 0.11683664 0.13474388]\n",
      " [0.04642796 0.0757155  0.08461747 0.07373706 0.0764787  0.03537873\n",
      "  0.386361   0.03922184 0.09964187 0.08241993]\n",
      " [0.05923898 0.06592468 0.12495725 0.27036104 0.06077239 0.08144292\n",
      "  0.06759488 0.03222457 0.18455173 0.05293148]\n",
      " [0.05898797 0.05398536 0.07318646 0.05616957 0.29965523 0.05694677\n",
      "  0.1153585  0.06859453 0.09774532 0.1193703 ]\n",
      " [0.0637055  0.06116104 0.33352348 0.14385144 0.04028882 0.02348931\n",
      "  0.06186761 0.07762624 0.11849051 0.07599594]\n",
      " [0.04954124 0.2200632  0.10624257 0.12086095 0.06294314 0.03480044\n",
      "  0.07880794 0.07365264 0.14219116 0.11089673]\n",
      " [0.03983036 0.06857633 0.08461287 0.06550942 0.2670424  0.04487926\n",
      "  0.17251322 0.05194979 0.07968225 0.12540403]\n",
      " [0.04315513 0.06411036 0.08919931 0.10400579 0.11075091 0.05225736\n",
      "  0.09285731 0.0710926  0.120722   0.2518493 ]\n",
      " [0.06397178 0.05326378 0.08470652 0.08827902 0.16380818 0.05528148\n",
      "  0.1248472  0.06048696 0.1322672  0.17308795]\n",
      " [0.05365547 0.06192489 0.05362136 0.294877   0.06131459 0.10324192\n",
      "  0.08098524 0.05573371 0.12398897 0.11065681]\n",
      " [0.05002345 0.05524817 0.09219646 0.19689986 0.06759584 0.05362591\n",
      "  0.06162988 0.03748552 0.31197658 0.07331835]\n",
      " [0.07682222 0.07236341 0.07996619 0.10752686 0.08909111 0.04112028\n",
      "  0.08754963 0.1615589  0.10903262 0.1749687 ]\n",
      " [0.05515941 0.07831389 0.08121043 0.10238495 0.04487844 0.14584579\n",
      "  0.05606402 0.04732525 0.31633672 0.07248113]\n",
      " [0.05298715 0.2388606  0.11510886 0.09841185 0.07245998 0.03514249\n",
      "  0.08453909 0.06900226 0.14090903 0.09257858]\n",
      " [0.03131112 0.07430301 0.14833622 0.15141037 0.09005719 0.052982\n",
      "  0.07335512 0.05549931 0.24313115 0.07961461]\n",
      " [0.03804101 0.05669301 0.11243322 0.37868315 0.05314365 0.06441166\n",
      "  0.07331289 0.03696139 0.12306979 0.06325024]\n",
      " [0.0963878  0.0622373  0.08497284 0.12540586 0.05640994 0.05801408\n",
      "  0.2650757  0.04220759 0.11761912 0.09166978]\n",
      " [0.03512002 0.0424422  0.4078053  0.10264759 0.03077651 0.03315479\n",
      "  0.07029594 0.06028555 0.10473507 0.11273707]\n",
      " [0.07796954 0.06208726 0.13384993 0.22544555 0.04768391 0.063246\n",
      "  0.12193112 0.0739645  0.13650784 0.0573144 ]\n",
      " [0.06101389 0.06238309 0.07369387 0.16037787 0.06627171 0.14088309\n",
      "  0.08723611 0.03869229 0.22274412 0.08670385]\n",
      " [0.09039105 0.04536167 0.11853315 0.07433655 0.19029751 0.04074401\n",
      "  0.13603938 0.05140942 0.09380847 0.15907873]\n",
      " [0.05810921 0.05438694 0.09137511 0.08490767 0.09544038 0.03162804\n",
      "  0.10035093 0.08900488 0.10556622 0.28923059]\n",
      " [0.05703584 0.05029441 0.06093296 0.38477215 0.05642002 0.0918063\n",
      "  0.0802689  0.05756692 0.076804   0.08409847]\n",
      " [0.04941252 0.05719304 0.12977399 0.3812346  0.04613832 0.04827228\n",
      "  0.06755514 0.03539369 0.12263084 0.06239562]\n",
      " [0.07427111 0.05421751 0.05535892 0.09893087 0.08498549 0.04968221\n",
      "  0.09584061 0.2174562  0.14740714 0.12184997]\n",
      " [0.03705635 0.12614465 0.11007641 0.13419858 0.08927974 0.05531098\n",
      "  0.09419905 0.04535839 0.2466176  0.06175825]\n",
      " [0.03138659 0.05589182 0.10546277 0.4148597  0.05462439 0.04758779\n",
      "  0.05871451 0.0502832  0.11592834 0.06526079]\n",
      " [0.21082775 0.05158328 0.13283959 0.119512   0.03672245 0.03556628\n",
      "  0.14516811 0.08987946 0.08754987 0.09035115]\n",
      " [0.03330796 0.08363602 0.1110357  0.30623785 0.03350394 0.04359912\n",
      "  0.08423222 0.05901976 0.18021943 0.065208  ]\n",
      " [0.04655275 0.04749379 0.10152148 0.09060535 0.07695317 0.03400045\n",
      "  0.07413966 0.09387746 0.15118128 0.28367463]\n",
      " [0.05351761 0.07790234 0.07563823 0.11786426 0.04265756 0.08456931\n",
      "  0.06440895 0.05825933 0.34319785 0.08198451]\n",
      " [0.05606843 0.06651613 0.30082208 0.17283571 0.04411234 0.02852643\n",
      "  0.06886908 0.09347098 0.10417578 0.06460302]\n",
      " [0.05321373 0.2286656  0.12215513 0.09162435 0.08475666 0.04156252\n",
      "  0.08597581 0.0751828  0.13081737 0.086046  ]\n",
      " [0.0615015  0.05442318 0.08195108 0.05356036 0.20624755 0.04468274\n",
      "  0.10848151 0.08721267 0.13979071 0.16214868]\n",
      " [0.04409111 0.07023191 0.3498561  0.13420215 0.04479918 0.03192361\n",
      "  0.06793308 0.08941978 0.10190198 0.06564105]\n",
      " [0.04216043 0.09530792 0.42517403 0.11030994 0.02565918 0.02767146\n",
      "  0.08613212 0.04289778 0.09414396 0.05054309]\n",
      " [0.08400091 0.06127939 0.25552234 0.13324136 0.07067938 0.033501\n",
      "  0.07113127 0.046581   0.15320449 0.09085892]\n",
      " [0.08768367 0.05829203 0.08412107 0.07125613 0.12847695 0.07279458\n",
      "  0.11721083 0.0747954  0.13546018 0.16990913]\n",
      " [0.072763   0.06023784 0.09278601 0.29051587 0.04079162 0.08650427\n",
      "  0.09187356 0.0499062  0.14257032 0.07205133]\n",
      " [0.06804464 0.08877021 0.14536688 0.0906195  0.0895081  0.06900875\n",
      "  0.06606092 0.06748325 0.22219084 0.09294694]\n",
      " [0.04963157 0.03685611 0.10265717 0.06923492 0.09597643 0.02991739\n",
      "  0.08600374 0.0748715  0.16194288 0.29290822]\n",
      " [0.07133301 0.04456801 0.10354755 0.07587531 0.08060954 0.05619407\n",
      "  0.11368767 0.08377521 0.16714256 0.20326716]\n",
      " [0.0544152  0.22322671 0.12064297 0.09495886 0.07043111 0.04304271\n",
      "  0.08150551 0.06030887 0.17973442 0.07173361]\n",
      " [0.03478399 0.06992957 0.32216668 0.1803212  0.03043689 0.04539977\n",
      "  0.11513032 0.0297885  0.11048327 0.06155979]\n",
      " [0.0724447  0.06254257 0.29097918 0.11484589 0.05980553 0.05661808\n",
      "  0.15316981 0.06080402 0.08013824 0.04865199]\n",
      " [0.05795848 0.06023997 0.06287137 0.18979971 0.06797096 0.08152597\n",
      "  0.09303837 0.10336182 0.13117157 0.1520618 ]\n",
      " [0.05839989 0.07179401 0.08519492 0.08372898 0.07846991 0.03992035\n",
      "  0.32164562 0.04318822 0.11006501 0.10759303]\n",
      " [0.04276315 0.07981592 0.10507662 0.08459316 0.09121761 0.04158058\n",
      "  0.09788387 0.12830238 0.14715084 0.1816159 ]\n",
      " [0.06476036 0.06459755 0.086054   0.07133807 0.05906099 0.0400894\n",
      "  0.4446634  0.0441011  0.05817604 0.06715909]\n",
      " [0.05168241 0.11422598 0.12621227 0.0707704  0.04390791 0.03984382\n",
      "  0.05659486 0.16848692 0.20958993 0.11868554]\n",
      " [0.07378763 0.06759369 0.07592046 0.09681866 0.0866784  0.05525439\n",
      "  0.08736436 0.21172233 0.08174961 0.16311044]\n",
      " [0.10195455 0.06647588 0.0473296  0.09661222 0.06975113 0.04817496\n",
      "  0.084791   0.2324778  0.08755092 0.16488191]\n",
      " [0.06531798 0.04009198 0.07118385 0.07021217 0.2064574  0.03301618\n",
      "  0.11303572 0.05628723 0.15472342 0.18967406]\n",
      " [0.07327661 0.07011071 0.08883313 0.320821   0.05194333 0.09790876\n",
      "  0.06578795 0.0579439  0.11034203 0.06303252]\n",
      " [0.05732803 0.23860839 0.10596903 0.09367433 0.07610082 0.05321034\n",
      "  0.09003226 0.06146551 0.15357302 0.07003829]\n",
      " [0.0544866  0.22182284 0.09982265 0.10823222 0.05808676 0.03627616\n",
      "  0.07796255 0.06619772 0.18629687 0.09081559]\n",
      " [0.06344877 0.20563342 0.12355289 0.09024557 0.07595292 0.0458997\n",
      "  0.08824693 0.08804272 0.12327833 0.09569879]], shape=(64, 10), dtype=float32)\n"
     ]
    }
   ],
   "source": [
    "print(\"predict on one batch of data\")\n",
    "print(model.predict_on_batch(train_data))"
   ]
  },
  {
   "cell_type": "code",
   "execution_count": 15,
   "metadata": {},
   "outputs": [
    {
     "name": "stdout",
     "output_type": "stream",
     "text": [
      "test on one batch of data\n",
      "[1.5167072, 0.8046875]\n"
     ]
    }
   ],
   "source": [
    "print(\"test on one batch of data\")\n",
    "print(model.test_on_batch(train_data))"
   ]
  }
 ],
 "metadata": {
  "kernelspec": {
   "display_name": "Python [conda env:env_tensorflow]",
   "language": "python",
   "name": "conda-env-env_tensorflow-py"
  },
  "language_info": {
   "codemirror_mode": {
    "name": "ipython",
    "version": 3
   },
   "file_extension": ".py",
   "mimetype": "text/x-python",
   "name": "python",
   "nbconvert_exporter": "python",
   "pygments_lexer": "ipython3",
   "version": "3.7.5"
  }
 },
 "nbformat": 4,
 "nbformat_minor": 4
}
